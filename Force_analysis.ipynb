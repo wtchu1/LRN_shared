{
 "cells": [
  {
   "cell_type": "code",
   "execution_count": 9,
   "metadata": {},
   "outputs": [],
   "source": [
    "import requests\n",
    "import pandas as pd\n",
    "import numpy as np\n",
    "import matplotlib.pyplot as plt\n",
    "import os"
   ]
  },
  {
   "cell_type": "code",
   "execution_count": 2,
   "metadata": {},
   "outputs": [
    {
     "name": "stdout",
     "output_type": "stream",
     "text": [
      "Reading in file... Done\n"
     ]
    }
   ],
   "source": [
    "local_dir = 'C:\\\\Users\\\\wc11\\\\OneDrive\\\\Documents\\\\Graduate Research\\\\Brainstem\\\\Force_analysis\\\\'\n",
    "\n",
    "# Initialize the data frame\n",
    "grp_dir = 'Feedback_output\\\\'\n",
    "feed_bool = True\n",
    "subj_id = 'BS001_WD'\n",
    "scan_rep = 'T1'\n",
    "\n",
    "print('Reading in file...', end = ' ')\n",
    "file = local_dir + grp_dir + subj_id + '_' + scan_rep + '_analyzed.txt'\n",
    "data = pd.read_csv(file, sep='\\t')\n",
    "data_out_feed = pd.DataFrame(columns = data.columns)\n",
    "data_out_nofeed = pd.DataFrame(columns = data.columns)\n",
    "print('Done')"
   ]
  },
  {
   "cell_type": "code",
   "execution_count": 3,
   "metadata": {},
   "outputs": [],
   "source": [
    "grp_dir = 'Feedback_output\\\\'\n",
    "feed_bool = True\n",
    "\n",
    "for filename in os.listdir(local_dir + grp_dir):\n",
    "    split_i = filename.split(\"_\")\n",
    "    subj_id = split_i[0] + \"_\" + split_i[1]\n",
    "    scan_rep = split_i[2]\n",
    "    \n",
    "    # Read in file\n",
    "    file = local_dir + grp_dir + subj_id + '_' + scan_rep + '_analyzed.txt'\n",
    "    data = pd.read_csv(file, sep='\\t')\n",
    "    \n",
    "    # Calculate mean of all columns\n",
    "    scan_info = pd.Series([subj_id, scan_rep, feed_bool], index=['Subj_ID', 'Scan_rep', 'Feedback'])\n",
    "    subj_mean = data.mean(0)\n",
    "    subj_mean = subj_mean.append(scan_info)\n",
    "    subj_mean.name = subj_id + '_' + scan_rep\n",
    "    data_out_feed = data_out_feed.append(subj_mean)"
   ]
  },
  {
   "cell_type": "code",
   "execution_count": 4,
   "metadata": {},
   "outputs": [],
   "source": [
    "grp_dir = 'NoFeedback_output\\\\'\n",
    "feed_bool = False\n",
    "\n",
    "for filename in os.listdir(local_dir + grp_dir):\n",
    "    split_i = filename.split(\"_\")\n",
    "    subj_id = split_i[0] + \"_\" + split_i[1]\n",
    "    scan_rep = split_i[2]\n",
    "    \n",
    "    # Read in file\n",
    "    file = local_dir + grp_dir + subj_id + '_' + scan_rep + '_analyzed.txt'\n",
    "    data = pd.read_csv(file, sep='\\t')\n",
    "    \n",
    "    # Calculate mean of all columns\n",
    "    scan_info = pd.Series([subj_id, scan_rep, feed_bool], index=['Subj_ID', 'Scan_rep', 'Feedback'])\n",
    "    subj_mean = data.mean(0)\n",
    "    subj_mean = subj_mean.append(scan_info)\n",
    "    subj_mean.name = subj_id + '_' + scan_rep\n",
    "    data_out_nofeed = data_out_nofeed.append(subj_mean)"
   ]
  },
  {
   "cell_type": "code",
   "execution_count": 5,
   "metadata": {},
   "outputs": [
    {
     "data": {
      "text/plain": [
       "Block #                       2.498233\n",
       "Pulse #                       5.488600\n",
       "duration                      2.032889\n",
       "force all (N)                 6.769076\n",
       "SD all (N)                    4.818397\n",
       "Force middle (N)             10.435732\n",
       "SD middle (N)                 0.453610\n",
       "force all (%)                 9.413250\n",
       "SD all (%)                    6.696025\n",
       "Force middle (%)             14.510054\n",
       "SD middle (%)                 0.632517\n",
       "RoC increase                 57.675566\n",
       "RoC decrease               -117.976523\n",
       "RMSE (middle)                 0.762422\n",
       "PeakForce (N)                11.559036\n",
       "TargetForce(N)               10.777925\n",
       "CE (N)                       -0.342193\n",
       "PeakForce (%)                16.076096\n",
       "TargetForce(%)               15.000000\n",
       "CE (%)                       96.733693\n",
       "sample entropy half           0.343711\n",
       "approximate entropy half      0.328288\n",
       "Feedback                      1.000000\n",
       "dtype: float64"
      ]
     },
     "execution_count": 5,
     "metadata": {},
     "output_type": "execute_result"
    }
   ],
   "source": [
    "data_out_feed.mean(0)"
   ]
  },
  {
   "cell_type": "code",
   "execution_count": 6,
   "metadata": {},
   "outputs": [
    {
     "data": {
      "text/plain": [
       "Block #                      0.010240\n",
       "Pulse #                      0.049792\n",
       "duration                     0.099325\n",
       "force all (N)                1.142443\n",
       "SD all (N)                   0.813589\n",
       "Force middle (N)             1.705412\n",
       "SD middle (N)                0.150217\n",
       "force all (%)                0.491177\n",
       "SD all (%)                   0.273263\n",
       "Force middle (%)             0.414976\n",
       "SD middle (%)                0.170847\n",
       "RoC increase                21.345240\n",
       "RoC decrease                28.390467\n",
       "RMSE (middle)                0.345741\n",
       "PeakForce (N)                1.908505\n",
       "TargetForce(N)               1.681858\n",
       "CE (N)                       0.297947\n",
       "PeakForce (%)                0.637838\n",
       "TargetForce(%)               0.000000\n",
       "CE (%)                       2.766509\n",
       "sample entropy half          0.043011\n",
       "approximate entropy half     0.032346\n",
       "Feedback                     0.000000\n",
       "dtype: float64"
      ]
     },
     "execution_count": 6,
     "metadata": {},
     "output_type": "execute_result"
    }
   ],
   "source": [
    "data_out_feed.std(0)"
   ]
  },
  {
   "cell_type": "code",
   "execution_count": 7,
   "metadata": {},
   "outputs": [
    {
     "data": {
      "text/plain": [
       "Block #                       2.488513\n",
       "Pulse #                       5.455389\n",
       "duration                      1.947974\n",
       "force all (N)                 6.847665\n",
       "SD all (N)                    4.860955\n",
       "Force middle (N)             10.456820\n",
       "SD middle (N)                 0.847153\n",
       "force all (%)                 9.549075\n",
       "SD all (%)                    6.771188\n",
       "Force middle (%)             14.579384\n",
       "SD middle (%)                 1.191860\n",
       "RoC increase                 61.473031\n",
       "RoC decrease               -113.419659\n",
       "RMSE (middle)                 3.920179\n",
       "PeakForce (N)                12.376103\n",
       "TargetForce(N)               10.761750\n",
       "CE (N)                       -0.304930\n",
       "PeakForce (%)                17.313405\n",
       "TargetForce(%)               15.000000\n",
       "CE (%)                       97.195894\n",
       "sample entropy half           0.276942\n",
       "approximate entropy half      0.277939\n",
       "Feedback                      0.000000\n",
       "dtype: float64"
      ]
     },
     "execution_count": 7,
     "metadata": {},
     "output_type": "execute_result"
    }
   ],
   "source": [
    "data_out_nofeed.mean(0)"
   ]
  },
  {
   "cell_type": "code",
   "execution_count": 10,
   "metadata": {},
   "outputs": [
    {
     "data": {
      "text/plain": [
       "Block #                      0.032415\n",
       "Pulse #                      0.106495\n",
       "duration                     0.126723\n",
       "force all (N)                2.367750\n",
       "SD all (N)                   1.700253\n",
       "Force middle (N)             3.596165\n",
       "SD middle (N)                0.440207\n",
       "force all (%)                3.110626\n",
       "SD all (%)                   2.182203\n",
       "Force middle (%)             4.665006\n",
       "SD middle (%)                0.609305\n",
       "RoC increase                30.471747\n",
       "RoC decrease                44.304813\n",
       "RMSE (middle)                1.524933\n",
       "PeakForce (N)                4.048714\n",
       "TargetForce(N)               1.684165\n",
       "CE (N)                       3.301040\n",
       "PeakForce (%)                5.419971\n",
       "TargetForce(%)               0.000000\n",
       "CE (%)                      31.100041\n",
       "sample entropy half          0.057200\n",
       "approximate entropy half     0.048776\n",
       "Feedback                     0.000000\n",
       "dtype: float64"
      ]
     },
     "execution_count": 10,
     "metadata": {},
     "output_type": "execute_result"
    }
   ],
   "source": [
    "data_out_nofeed.std(0)"
   ]
  },
  {
   "cell_type": "code",
   "execution_count": 29,
   "metadata": {},
   "outputs": [
    {
     "data": {
      "text/plain": [
       "Text(0,0.5,'Root mean squared error [N]')"
      ]
     },
     "execution_count": 29,
     "metadata": {},
     "output_type": "execute_result"
    },
    {
     "data": {
      "image/png": "[encoded data removed]",
      "text/plain": [
       "<Figure size 432x288 with 1 Axes>"
      ]
     },
     "metadata": {},
     "output_type": "display_data"
    }
   ],
   "source": [
    "plt.boxplot([data_out_feed['RMSE (middle)'], data_out_nofeed['RMSE (middle)']], labels = ['With feedback', 'Without feedback'])\n",
    "plt.ylabel('Root mean squared error [N]')"
   ]
  },
  {
   "cell_type": "code",
   "execution_count": 30,
   "metadata": {},
   "outputs": [
    {
     "data": {
      "text/plain": [
       "Text(0,0.5,'Force (%)')"
      ]
     },
     "execution_count": 30,
     "metadata": {},
     "output_type": "execute_result"
    },
    {
     "data": {
      "image/png": "[encoded data removed]",
      "text/plain": [
       "<Figure size 432x288 with 1 Axes>"
      ]
     },
     "metadata": {},
     "output_type": "display_data"
    }
   ],
   "source": [
    "plt.boxplot([data_out_feed['Force middle (%)'], data_out_nofeed['Force middle (%)']], labels = ['With feedback', 'Without feedback'])\n",
    "plt.ylabel('Force (%)')"
   ]
  },
  {
   "cell_type": "code",
   "execution_count": 31,
   "metadata": {},
   "outputs": [],
   "source": [
    "data_out_feed.to_csv(local_dir + 'Grp_data_with_feedback.csv')\n",
    "data_out_nofeed.to_csv(local_dir + 'Grp_data_with_nofeedback.csv')"
   ]
  },
  {
   "cell_type": "markdown",
   "metadata": {},
   "source": [
    "import os\n",
    "grp_dir = 'NoFeedback_output\\\\'\n",
    "for filename in os.listdir(local_dir + grp_dir):\n",
    "    print(filename)\n",
    "    split_i = filename.split(\"_\")\n",
    "    if split_i[2] == 'Task1.txt':\n",
    "        file_out = split_i[0] + '_' + split_i[1] + '_T1_analyzed.txt'\n",
    "    if split_i[2] == 'Task2.txt':\n",
    "        file_out = split_i[0] + '_' + split_i[1] + '_T2_analyzed.txt'\n",
    "    if split_i[2] == 'Task3.txt':\n",
    "        file_out = split_i[0] + '_' + split_i[1] + '_T3_analyzed.txt'\n",
    "    if split_i[2] == 'T1.txt':\n",
    "        file_out = split_i[0] + '_' + split_i[1] + '_T1_analyzed.txt'\n",
    "    if split_i[2] == 'T2.txt':\n",
    "        file_out = split_i[0] + '_' + split_i[1] + '_T2_analyzed.txt'\n",
    "    if split_i[2] == 'T3.txt':\n",
    "        file_out = split_i[0] + '_' + split_i[1] + '_T3_analyzed.txt'\n",
    "    print(file_out)\n",
    "    os.rename(local_dir + grp_dir + filename, local_dir + grp_dir + file_out)\n"
   ]
  },
  {
   "cell_type": "code",
   "execution_count": null,
   "metadata": {},
   "outputs": [],
   "source": []
  }
 ],
 "metadata": {
  "kernelspec": {
   "display_name": "Python 3",
   "language": "python",
   "name": "python3"
  },
  "language_info": {
   "codemirror_mode": {
    "name": "ipython",
    "version": 3
   },
   "file_extension": ".py",
   "mimetype": "text/x-python",
   "name": "python",
   "nbconvert_exporter": "python",
   "pygments_lexer": "ipython3",
   "version": "3.6.5"
  }
 },
 "nbformat": 4,
 "nbformat_minor": 2
}
